{
 "cells": [
  {
   "cell_type": "markdown",
   "source": [
    "# Dynamic Programming"
   ],
   "metadata": {
    "collapsed": false,
    "pycharm": {
     "name": "#%% md\n"
    }
   }
  },
  {
   "cell_type": "markdown",
   "source": [
    "## Fibonacci Number"
   ],
   "metadata": {
    "collapsed": false,
    "pycharm": {
     "name": "#%% md\n"
    }
   }
  },
  {
   "cell_type": "code",
   "execution_count": 33,
   "outputs": [],
   "source": [
    "def fib(n):\n",
    "    if n <= 2:\n",
    "        return 1\n",
    "    return fib(n - 1) + fib(n - 2)"
   ],
   "metadata": {
    "collapsed": false,
    "pycharm": {
     "name": "#%%\n"
    }
   }
  },
  {
   "cell_type": "code",
   "execution_count": 45,
   "outputs": [
    {
     "name": "stdout",
     "output_type": "stream",
     "text": [
      "8\n",
      "13\n",
      "21\n",
      "102334155\n"
     ]
    }
   ],
   "source": [
    "print(fib(6))\n",
    "print(fib(7))\n",
    "print(fib(8))\n",
    "print(fib(40))"
   ],
   "metadata": {
    "collapsed": false,
    "pycharm": {
     "name": "#%%\n"
    }
   }
  },
  {
   "cell_type": "code",
   "execution_count": 39,
   "outputs": [],
   "source": [
    "def fib_memo(n, memo={0: 0, 1: 1}):\n",
    "    if n in memo:\n",
    "        return memo[n]\n",
    "    memo[n] = fib_memo(n - 1, memo) + fib_memo(n - 2, memo)\n",
    "    return memo[n]"
   ],
   "metadata": {
    "collapsed": false,
    "pycharm": {
     "name": "#%%\n"
    }
   }
  },
  {
   "cell_type": "code",
   "execution_count": 46,
   "outputs": [
    {
     "name": "stdout",
     "output_type": "stream",
     "text": [
      "8\n",
      "13\n",
      "21\n",
      "102334155\n"
     ]
    }
   ],
   "source": [
    "print(fib_memo(6))\n",
    "print(fib_memo(7))\n",
    "print(fib_memo(8))\n",
    "print(fib_memo(40))"
   ],
   "metadata": {
    "collapsed": false,
    "pycharm": {
     "name": "#%%\n"
    }
   }
  },
  {
   "cell_type": "markdown",
   "source": [
    "## Longest Common Subsequence"
   ],
   "metadata": {
    "collapsed": false,
    "pycharm": {
     "name": "#%% md\n"
    }
   }
  },
  {
   "cell_type": "code",
   "execution_count": 29,
   "outputs": [],
   "source": [
    "def longest_common_subsequence(self, text1: str, text2: str) -> int:\n",
    "    def lcs(s1, s2, mem={}):\n",
    "        if not s1 or not s2:\n",
    "            return 0\n",
    "        if (s1, s2) in mem:\n",
    "            return mem[(s1, s2)]\n",
    "\n",
    "        if s1[-1] == s2[-1]:\n",
    "            mem[(s1, s2)] = 1 + lcs(s1[:-1], s2[:-1])\n",
    "        else:\n",
    "            mem[(s1, s2)] = max(lcs(s1[:-1], s2), lcs(s1, s2[:-1]))\n",
    "\n",
    "        return mem[(s1, s2)]\n",
    "\n",
    "    return lcs(text1, text2)"
   ],
   "metadata": {
    "collapsed": false,
    "pycharm": {
     "name": "#%%\n"
    }
   }
  },
  {
   "cell_type": "code",
   "execution_count": 47,
   "outputs": [
    {
     "name": "stdout",
     "output_type": "stream",
     "text": [
      "3\n"
     ]
    }
   ],
   "source": [
    "print(longest_common_subsequence(None, 'ylqpejqbalahwr', 'yrkzavgdmdgtqpg'))"
   ],
   "metadata": {
    "collapsed": false,
    "pycharm": {
     "name": "#%%\n"
    }
   }
  },
  {
   "cell_type": "markdown",
   "source": [
    "## Grid Traveller\n",
    "\n",
    "![grid traveller](resources/grid-traveller.png)"
   ],
   "metadata": {
    "collapsed": false,
    "pycharm": {
     "name": "#%% md\n"
    }
   }
  },
  {
   "cell_type": "code",
   "execution_count": 52,
   "outputs": [],
   "source": [
    "# complexity: O(n+m) space, O(2 ^ (n+m)) time\n",
    "def grid_traveller(n, m):\n",
    "    if n == 1 and m == 1:\n",
    "        return 1\n",
    "    if n == 0 or m == 0:\n",
    "        return 0\n",
    "\n",
    "    return grid_traveller(n - 1, m) + grid_traveller(n, m - 1)"
   ],
   "metadata": {
    "collapsed": false,
    "pycharm": {
     "name": "#%%\n"
    }
   }
  },
  {
   "cell_type": "code",
   "execution_count": 51,
   "outputs": [
    {
     "name": "stdout",
     "output_type": "stream",
     "text": [
      "1\n",
      "3\n",
      "3\n",
      "6\n"
     ]
    },
    {
     "ename": "KeyboardInterrupt",
     "evalue": "",
     "output_type": "error",
     "traceback": [
      "\u001B[0;31m---------------------------------------------------------------------------\u001B[0m",
      "\u001B[0;31mKeyboardInterrupt\u001B[0m                         Traceback (most recent call last)",
      "Input \u001B[0;32mIn [51]\u001B[0m, in \u001B[0;36m<cell line: 5>\u001B[0;34m()\u001B[0m\n\u001B[1;32m      3\u001B[0m \u001B[38;5;28mprint\u001B[39m(grid_traveller(\u001B[38;5;241m3\u001B[39m, \u001B[38;5;241m2\u001B[39m)) \u001B[38;5;66;03m# 3\u001B[39;00m\n\u001B[1;32m      4\u001B[0m \u001B[38;5;28mprint\u001B[39m(grid_traveller(\u001B[38;5;241m3\u001B[39m, \u001B[38;5;241m3\u001B[39m)) \u001B[38;5;66;03m# 6\u001B[39;00m\n\u001B[0;32m----> 5\u001B[0m \u001B[38;5;28mprint\u001B[39m(\u001B[43mgrid_traveller\u001B[49m\u001B[43m(\u001B[49m\u001B[38;5;241;43m18\u001B[39;49m\u001B[43m,\u001B[49m\u001B[43m \u001B[49m\u001B[38;5;241;43m18\u001B[39;49m\u001B[43m)\u001B[49m)\n",
      "Input \u001B[0;32mIn [48]\u001B[0m, in \u001B[0;36mgrid_traveller\u001B[0;34m(n, m)\u001B[0m\n\u001B[1;32m      4\u001B[0m \u001B[38;5;28;01mif\u001B[39;00m n \u001B[38;5;241m==\u001B[39m \u001B[38;5;241m0\u001B[39m \u001B[38;5;129;01mor\u001B[39;00m m \u001B[38;5;241m==\u001B[39m \u001B[38;5;241m0\u001B[39m:\n\u001B[1;32m      5\u001B[0m     \u001B[38;5;28;01mreturn\u001B[39;00m \u001B[38;5;241m0\u001B[39m\n\u001B[0;32m----> 7\u001B[0m \u001B[38;5;28;01mreturn\u001B[39;00m \u001B[43mgrid_traveller\u001B[49m\u001B[43m(\u001B[49m\u001B[43mn\u001B[49m\u001B[43m \u001B[49m\u001B[38;5;241;43m-\u001B[39;49m\u001B[43m \u001B[49m\u001B[38;5;241;43m1\u001B[39;49m\u001B[43m,\u001B[49m\u001B[43m \u001B[49m\u001B[43mm\u001B[49m\u001B[43m)\u001B[49m \u001B[38;5;241m+\u001B[39m grid_traveller(n, m \u001B[38;5;241m-\u001B[39m \u001B[38;5;241m1\u001B[39m)\n",
      "Input \u001B[0;32mIn [48]\u001B[0m, in \u001B[0;36mgrid_traveller\u001B[0;34m(n, m)\u001B[0m\n\u001B[1;32m      4\u001B[0m \u001B[38;5;28;01mif\u001B[39;00m n \u001B[38;5;241m==\u001B[39m \u001B[38;5;241m0\u001B[39m \u001B[38;5;129;01mor\u001B[39;00m m \u001B[38;5;241m==\u001B[39m \u001B[38;5;241m0\u001B[39m:\n\u001B[1;32m      5\u001B[0m     \u001B[38;5;28;01mreturn\u001B[39;00m \u001B[38;5;241m0\u001B[39m\n\u001B[0;32m----> 7\u001B[0m \u001B[38;5;28;01mreturn\u001B[39;00m \u001B[43mgrid_traveller\u001B[49m\u001B[43m(\u001B[49m\u001B[43mn\u001B[49m\u001B[43m \u001B[49m\u001B[38;5;241;43m-\u001B[39;49m\u001B[43m \u001B[49m\u001B[38;5;241;43m1\u001B[39;49m\u001B[43m,\u001B[49m\u001B[43m \u001B[49m\u001B[43mm\u001B[49m\u001B[43m)\u001B[49m \u001B[38;5;241m+\u001B[39m grid_traveller(n, m \u001B[38;5;241m-\u001B[39m \u001B[38;5;241m1\u001B[39m)\n",
      "    \u001B[0;31m[... skipping similar frames: grid_traveller at line 7 (31 times)]\u001B[0m\n",
      "Input \u001B[0;32mIn [48]\u001B[0m, in \u001B[0;36mgrid_traveller\u001B[0;34m(n, m)\u001B[0m\n\u001B[1;32m      4\u001B[0m \u001B[38;5;28;01mif\u001B[39;00m n \u001B[38;5;241m==\u001B[39m \u001B[38;5;241m0\u001B[39m \u001B[38;5;129;01mor\u001B[39;00m m \u001B[38;5;241m==\u001B[39m \u001B[38;5;241m0\u001B[39m:\n\u001B[1;32m      5\u001B[0m     \u001B[38;5;28;01mreturn\u001B[39;00m \u001B[38;5;241m0\u001B[39m\n\u001B[0;32m----> 7\u001B[0m \u001B[38;5;28;01mreturn\u001B[39;00m \u001B[43mgrid_traveller\u001B[49m\u001B[43m(\u001B[49m\u001B[43mn\u001B[49m\u001B[43m \u001B[49m\u001B[38;5;241;43m-\u001B[39;49m\u001B[43m \u001B[49m\u001B[38;5;241;43m1\u001B[39;49m\u001B[43m,\u001B[49m\u001B[43m \u001B[49m\u001B[43mm\u001B[49m\u001B[43m)\u001B[49m \u001B[38;5;241m+\u001B[39m grid_traveller(n, m \u001B[38;5;241m-\u001B[39m \u001B[38;5;241m1\u001B[39m)\n",
      "Input \u001B[0;32mIn [48]\u001B[0m, in \u001B[0;36mgrid_traveller\u001B[0;34m(n, m)\u001B[0m\n\u001B[1;32m      1\u001B[0m \u001B[38;5;28;01mdef\u001B[39;00m \u001B[38;5;21mgrid_traveller\u001B[39m(n, m):\n\u001B[0;32m----> 2\u001B[0m     \u001B[38;5;28;01mif\u001B[39;00m \u001B[43mn\u001B[49m\u001B[43m \u001B[49m\u001B[38;5;241;43m==\u001B[39;49m\u001B[43m \u001B[49m\u001B[38;5;241;43m1\u001B[39;49m \u001B[38;5;129;01mand\u001B[39;00m m \u001B[38;5;241m==\u001B[39m \u001B[38;5;241m1\u001B[39m:\n\u001B[1;32m      3\u001B[0m         \u001B[38;5;28;01mreturn\u001B[39;00m \u001B[38;5;241m1\u001B[39m\n\u001B[1;32m      4\u001B[0m     \u001B[38;5;28;01mif\u001B[39;00m n \u001B[38;5;241m==\u001B[39m \u001B[38;5;241m0\u001B[39m \u001B[38;5;129;01mor\u001B[39;00m m \u001B[38;5;241m==\u001B[39m \u001B[38;5;241m0\u001B[39m:\n",
      "\u001B[0;31mKeyboardInterrupt\u001B[0m: "
     ]
    }
   ],
   "source": [
    "print(grid_traveller(1, 1))  # 1\n",
    "print(grid_traveller(2, 3))  # 3\n",
    "print(grid_traveller(3, 2))  # 3\n",
    "print(grid_traveller(3, 3))  # 6\n",
    "print(grid_traveller(18, 18))  # 2333606220"
   ],
   "metadata": {
    "collapsed": false,
    "pycharm": {
     "name": "#%%\n"
    }
   }
  },
  {
   "cell_type": "code",
   "execution_count": 58,
   "outputs": [],
   "source": [
    "# complexity: O(n * m) time, O(n + m)\n",
    "def grid_traveller_mem(n, m, mem={}):\n",
    "    if n == 1 and m == 1:\n",
    "        return 1\n",
    "    if n == 0 or m == 0:\n",
    "        return 0\n",
    "\n",
    "    if n > m:\n",
    "        return grid_traveller(m, n)\n",
    "\n",
    "    if (n, m) in mem:\n",
    "        return mem[(n, m)]\n",
    "\n",
    "    mem[(n, m)] = grid_traveller_mem(n - 1, m, mem) + grid_traveller_mem(n, m - 1, mem)\n",
    "    return mem[(n, m)]"
   ],
   "metadata": {
    "collapsed": false,
    "pycharm": {
     "name": "#%%\n"
    }
   }
  },
  {
   "cell_type": "code",
   "execution_count": 60,
   "outputs": [
    {
     "name": "stdout",
     "output_type": "stream",
     "text": [
      "1\n",
      "3\n",
      "3\n",
      "6\n",
      "2333606220\n",
      "30067266499541040\n"
     ]
    }
   ],
   "source": [
    "print(grid_traveller_mem(1, 1))  # 1\n",
    "print(grid_traveller_mem(2, 3))  # 3\n",
    "print(grid_traveller_mem(3, 2))  # 3\n",
    "print(grid_traveller_mem(3, 3))  # 6\n",
    "print(grid_traveller_mem(18, 18))  # 2333606220\n",
    "print(grid_traveller_mem(30, 30))  # 30067266499541040"
   ],
   "metadata": {
    "collapsed": false,
    "pycharm": {
     "name": "#%%\n"
    }
   }
  },
  {
   "cell_type": "markdown",
   "source": [
    "## Memoization Recipe"
   ],
   "metadata": {
    "collapsed": false,
    "pycharm": {
     "name": "#%% md\n"
    }
   }
  },
  {
   "cell_type": "markdown",
   "source": [
    "1. **Make it work**\n",
    "    - visualize the problem as a tree\n",
    "    - implement the tree using recursion\n",
    "    - decide the base case - leaves of the decision tree\n",
    "    - test it\n",
    "    -\n",
    "2. **Make it efficient**\n",
    "    - add a memo object\n",
    "    - add a base case to return memo values\n",
    "    - store return values into the memo"
   ],
   "metadata": {
    "collapsed": false,
    "pycharm": {
     "name": "#%% md\n"
    }
   }
  },
  {
   "cell_type": "markdown",
   "source": [
    "## Can Sum"
   ],
   "metadata": {
    "collapsed": false,
    "pycharm": {
     "name": "#%% md\n"
    }
   }
  },
  {
   "cell_type": "markdown",
   "source": [
    "![can_sum](resources/can_sum.png)"
   ],
   "metadata": {
    "collapsed": false,
    "pycharm": {
     "name": "#%% md\n"
    }
   }
  },
  {
   "cell_type": "code",
   "execution_count": 71,
   "outputs": [],
   "source": [
    "# complexity : O(n^m) time and O(m) space, where n = #elements and m = target\n",
    "def can_sum(arr, target: int) -> bool:\n",
    "    if target == 0:\n",
    "        return True\n",
    "    if target < 0:\n",
    "        return False\n",
    "\n",
    "    for num in arr:\n",
    "        if can_sum(arr, target - num):\n",
    "            return True\n",
    "\n",
    "    return False"
   ],
   "metadata": {
    "collapsed": false,
    "pycharm": {
     "name": "#%%\n"
    }
   }
  },
  {
   "cell_type": "code",
   "execution_count": 72,
   "outputs": [
    {
     "name": "stdout",
     "output_type": "stream",
     "text": [
      "True\n",
      "True\n",
      "False\n",
      "True\n",
      "True\n"
     ]
    },
    {
     "ename": "KeyboardInterrupt",
     "evalue": "",
     "output_type": "error",
     "traceback": [
      "\u001B[0;31m---------------------------------------------------------------------------\u001B[0m",
      "\u001B[0;31mKeyboardInterrupt\u001B[0m                         Traceback (most recent call last)",
      "Input \u001B[0;32mIn [72]\u001B[0m, in \u001B[0;36m<cell line: 6>\u001B[0;34m()\u001B[0m\n\u001B[1;32m      4\u001B[0m \u001B[38;5;28mprint\u001B[39m(can_sum([\u001B[38;5;241m2\u001B[39m, \u001B[38;5;241m3\u001B[39m, \u001B[38;5;241m5\u001B[39m], \u001B[38;5;241m8\u001B[39m))  \u001B[38;5;66;03m# true\u001B[39;00m\n\u001B[1;32m      5\u001B[0m \u001B[38;5;28mprint\u001B[39m(can_sum([\u001B[38;5;241m5\u001B[39m, \u001B[38;5;241m3\u001B[39m, \u001B[38;5;241m4\u001B[39m, \u001B[38;5;241m7\u001B[39m], \u001B[38;5;241m7\u001B[39m))  \u001B[38;5;66;03m# true\u001B[39;00m\n\u001B[0;32m----> 6\u001B[0m \u001B[38;5;28mprint\u001B[39m(\u001B[43mcan_sum\u001B[49m\u001B[43m(\u001B[49m\u001B[43m[\u001B[49m\u001B[38;5;241;43m7\u001B[39;49m\u001B[43m,\u001B[49m\u001B[43m \u001B[49m\u001B[38;5;241;43m14\u001B[39;49m\u001B[43m]\u001B[49m\u001B[43m,\u001B[49m\u001B[43m \u001B[49m\u001B[38;5;241;43m300\u001B[39;49m\u001B[43m)\u001B[49m)\n",
      "Input \u001B[0;32mIn [71]\u001B[0m, in \u001B[0;36mcan_sum\u001B[0;34m(arr, target)\u001B[0m\n\u001B[1;32m      6\u001B[0m     \u001B[38;5;28;01mreturn\u001B[39;00m \u001B[38;5;28;01mFalse\u001B[39;00m\n\u001B[1;32m      8\u001B[0m \u001B[38;5;28;01mfor\u001B[39;00m num \u001B[38;5;129;01min\u001B[39;00m arr:\n\u001B[0;32m----> 9\u001B[0m     \u001B[38;5;28;01mif\u001B[39;00m \u001B[43mcan_sum\u001B[49m\u001B[43m(\u001B[49m\u001B[43marr\u001B[49m\u001B[43m,\u001B[49m\u001B[43m \u001B[49m\u001B[43mtarget\u001B[49m\u001B[43m \u001B[49m\u001B[38;5;241;43m-\u001B[39;49m\u001B[43m \u001B[49m\u001B[43mnum\u001B[49m\u001B[43m)\u001B[49m:\n\u001B[1;32m     10\u001B[0m         \u001B[38;5;28;01mreturn\u001B[39;00m \u001B[38;5;28;01mTrue\u001B[39;00m\n\u001B[1;32m     12\u001B[0m \u001B[38;5;28;01mreturn\u001B[39;00m \u001B[38;5;28;01mFalse\u001B[39;00m\n",
      "Input \u001B[0;32mIn [71]\u001B[0m, in \u001B[0;36mcan_sum\u001B[0;34m(arr, target)\u001B[0m\n\u001B[1;32m      6\u001B[0m     \u001B[38;5;28;01mreturn\u001B[39;00m \u001B[38;5;28;01mFalse\u001B[39;00m\n\u001B[1;32m      8\u001B[0m \u001B[38;5;28;01mfor\u001B[39;00m num \u001B[38;5;129;01min\u001B[39;00m arr:\n\u001B[0;32m----> 9\u001B[0m     \u001B[38;5;28;01mif\u001B[39;00m \u001B[43mcan_sum\u001B[49m\u001B[43m(\u001B[49m\u001B[43marr\u001B[49m\u001B[43m,\u001B[49m\u001B[43m \u001B[49m\u001B[43mtarget\u001B[49m\u001B[43m \u001B[49m\u001B[38;5;241;43m-\u001B[39;49m\u001B[43m \u001B[49m\u001B[43mnum\u001B[49m\u001B[43m)\u001B[49m:\n\u001B[1;32m     10\u001B[0m         \u001B[38;5;28;01mreturn\u001B[39;00m \u001B[38;5;28;01mTrue\u001B[39;00m\n\u001B[1;32m     12\u001B[0m \u001B[38;5;28;01mreturn\u001B[39;00m \u001B[38;5;28;01mFalse\u001B[39;00m\n",
      "    \u001B[0;31m[... skipping similar frames: can_sum at line 9 (30 times)]\u001B[0m\n",
      "Input \u001B[0;32mIn [71]\u001B[0m, in \u001B[0;36mcan_sum\u001B[0;34m(arr, target)\u001B[0m\n\u001B[1;32m      6\u001B[0m     \u001B[38;5;28;01mreturn\u001B[39;00m \u001B[38;5;28;01mFalse\u001B[39;00m\n\u001B[1;32m      8\u001B[0m \u001B[38;5;28;01mfor\u001B[39;00m num \u001B[38;5;129;01min\u001B[39;00m arr:\n\u001B[0;32m----> 9\u001B[0m     \u001B[38;5;28;01mif\u001B[39;00m \u001B[43mcan_sum\u001B[49m\u001B[43m(\u001B[49m\u001B[43marr\u001B[49m\u001B[43m,\u001B[49m\u001B[43m \u001B[49m\u001B[43mtarget\u001B[49m\u001B[43m \u001B[49m\u001B[38;5;241;43m-\u001B[39;49m\u001B[43m \u001B[49m\u001B[43mnum\u001B[49m\u001B[43m)\u001B[49m:\n\u001B[1;32m     10\u001B[0m         \u001B[38;5;28;01mreturn\u001B[39;00m \u001B[38;5;28;01mTrue\u001B[39;00m\n\u001B[1;32m     12\u001B[0m \u001B[38;5;28;01mreturn\u001B[39;00m \u001B[38;5;28;01mFalse\u001B[39;00m\n",
      "\u001B[0;31mKeyboardInterrupt\u001B[0m: "
     ]
    }
   ],
   "source": [
    "print(can_sum([2, 3], 7))  # true\n",
    "print(can_sum([5, 3, 4, 7], 7))  # true\n",
    "print(can_sum([2, 4], 7))  # false\n",
    "print(can_sum([2, 3, 5], 8))  # true\n",
    "print(can_sum([5, 3, 4, 7], 7))  # true\n",
    "print(can_sum([7, 14], 300))  # false"
   ],
   "metadata": {
    "collapsed": false,
    "pycharm": {
     "name": "#%%\n"
    }
   }
  },
  {
   "cell_type": "code",
   "execution_count": 93,
   "outputs": [],
   "source": [
    "# complexity: O(m * n) time and O(m) space\n",
    "def can_sum_mem(arr, target):\n",
    "    mem = dict()\n",
    "\n",
    "    def can_sum(arr, target):\n",
    "        if target == 0:\n",
    "            return True\n",
    "\n",
    "        if target < 0:\n",
    "            return False\n",
    "\n",
    "        if target in mem:\n",
    "            return mem[target]\n",
    "\n",
    "        for num in arr:\n",
    "            if can_sum(arr, target - num):\n",
    "                mem[target] = True\n",
    "                return True\n",
    "\n",
    "        mem[target] = False\n",
    "\n",
    "        return False\n",
    "\n",
    "    return can_sum(arr, target)"
   ],
   "metadata": {
    "collapsed": false,
    "pycharm": {
     "name": "#%%\n"
    }
   }
  },
  {
   "cell_type": "code",
   "execution_count": 94,
   "outputs": [
    {
     "name": "stdout",
     "output_type": "stream",
     "text": [
      "True\n",
      "True\n",
      "False\n",
      "True\n",
      "True\n",
      "False\n"
     ]
    }
   ],
   "source": [
    "print(can_sum_mem([2, 3], 7))  # true\n",
    "print(can_sum_mem([5, 3, 4, 7], 7))  # true\n",
    "print(can_sum_mem([2, 4], 7))  # false\n",
    "print(can_sum_mem([2, 3, 5], 8))  # true\n",
    "print(can_sum_mem([5, 3, 4, 7], 7))  # true\n",
    "print(can_sum_mem([7, 14], 300))  # false"
   ],
   "metadata": {
    "collapsed": false,
    "pycharm": {
     "name": "#%%\n"
    }
   }
  },
  {
   "cell_type": "markdown",
   "source": [
    "## How Sum"
   ],
   "metadata": {
    "collapsed": false,
    "pycharm": {
     "name": "#%% md\n"
    }
   }
  },
  {
   "cell_type": "markdown",
   "source": [
    "![how_sum](resources/how_sum.png)"
   ],
   "metadata": {
    "collapsed": false,
    "pycharm": {
     "name": "#%% md\n"
    }
   }
  },
  {
   "cell_type": "code",
   "execution_count": 108,
   "outputs": [],
   "source": [
    "# complexity: O(n ^ m) time and O(m) space\n",
    "def how_sum(arr, target: int):\n",
    "    nums = []\n",
    "\n",
    "    def how_sum(arr, target) -> bool:\n",
    "        if target == 0:\n",
    "            return True\n",
    "\n",
    "        if target < 0:\n",
    "            return False\n",
    "\n",
    "        for num in arr:\n",
    "            nums.append(num)\n",
    "            if how_sum(arr, target - num):\n",
    "                return nums\n",
    "            nums.pop()\n",
    "\n",
    "        return False\n",
    "\n",
    "    found = how_sum(arr, target)\n",
    "\n",
    "    return nums if found else None"
   ],
   "metadata": {
    "collapsed": false,
    "pycharm": {
     "name": "#%%\n"
    }
   }
  },
  {
   "cell_type": "code",
   "execution_count": 109,
   "outputs": [
    {
     "name": "stdout",
     "output_type": "stream",
     "text": [
      "[2, 2, 3]\n",
      "[3, 4]\n",
      "None\n",
      "[2, 2, 2, 2]\n",
      "[3, 4]\n"
     ]
    },
    {
     "ename": "KeyboardInterrupt",
     "evalue": "",
     "output_type": "error",
     "traceback": [
      "\u001B[0;31m---------------------------------------------------------------------------\u001B[0m",
      "\u001B[0;31mKeyboardInterrupt\u001B[0m                         Traceback (most recent call last)",
      "Input \u001B[0;32mIn [109]\u001B[0m, in \u001B[0;36m<cell line: 6>\u001B[0;34m()\u001B[0m\n\u001B[1;32m      4\u001B[0m \u001B[38;5;28mprint\u001B[39m(how_sum([\u001B[38;5;241m2\u001B[39m, \u001B[38;5;241m3\u001B[39m, \u001B[38;5;241m5\u001B[39m], \u001B[38;5;241m8\u001B[39m))  \u001B[38;5;66;03m# true\u001B[39;00m\n\u001B[1;32m      5\u001B[0m \u001B[38;5;28mprint\u001B[39m(how_sum([\u001B[38;5;241m5\u001B[39m, \u001B[38;5;241m3\u001B[39m, \u001B[38;5;241m4\u001B[39m, \u001B[38;5;241m7\u001B[39m], \u001B[38;5;241m7\u001B[39m))  \u001B[38;5;66;03m# true\u001B[39;00m\n\u001B[0;32m----> 6\u001B[0m \u001B[38;5;28mprint\u001B[39m(\u001B[43mhow_sum\u001B[49m\u001B[43m(\u001B[49m\u001B[43m[\u001B[49m\u001B[38;5;241;43m7\u001B[39;49m\u001B[43m,\u001B[49m\u001B[43m \u001B[49m\u001B[38;5;241;43m14\u001B[39;49m\u001B[43m]\u001B[49m\u001B[43m,\u001B[49m\u001B[43m \u001B[49m\u001B[38;5;241;43m300\u001B[39;49m\u001B[43m)\u001B[49m)\n",
      "Input \u001B[0;32mIn [108]\u001B[0m, in \u001B[0;36mhow_sum\u001B[0;34m(arr, target)\u001B[0m\n\u001B[1;32m     16\u001B[0m         nums\u001B[38;5;241m.\u001B[39mpop()\n\u001B[1;32m     18\u001B[0m     \u001B[38;5;28;01mreturn\u001B[39;00m \u001B[38;5;28;01mFalse\u001B[39;00m\n\u001B[0;32m---> 20\u001B[0m found \u001B[38;5;241m=\u001B[39m \u001B[43mhow_sum\u001B[49m\u001B[43m(\u001B[49m\u001B[43marr\u001B[49m\u001B[43m,\u001B[49m\u001B[43m \u001B[49m\u001B[43mtarget\u001B[49m\u001B[43m)\u001B[49m\n\u001B[1;32m     22\u001B[0m \u001B[38;5;28;01mreturn\u001B[39;00m nums \u001B[38;5;28;01mif\u001B[39;00m found \u001B[38;5;28;01melse\u001B[39;00m \u001B[38;5;28;01mNone\u001B[39;00m\n",
      "Input \u001B[0;32mIn [108]\u001B[0m, in \u001B[0;36mhow_sum.<locals>.how_sum\u001B[0;34m(arr, target)\u001B[0m\n\u001B[1;32m     12\u001B[0m \u001B[38;5;28;01mfor\u001B[39;00m num \u001B[38;5;129;01min\u001B[39;00m arr:\n\u001B[1;32m     13\u001B[0m     nums\u001B[38;5;241m.\u001B[39mappend(num)\n\u001B[0;32m---> 14\u001B[0m     \u001B[38;5;28;01mif\u001B[39;00m \u001B[43mhow_sum\u001B[49m\u001B[43m(\u001B[49m\u001B[43marr\u001B[49m\u001B[43m,\u001B[49m\u001B[43m \u001B[49m\u001B[43mtarget\u001B[49m\u001B[43m \u001B[49m\u001B[38;5;241;43m-\u001B[39;49m\u001B[43m \u001B[49m\u001B[43mnum\u001B[49m\u001B[43m)\u001B[49m:\n\u001B[1;32m     15\u001B[0m         \u001B[38;5;28;01mreturn\u001B[39;00m nums\n\u001B[1;32m     16\u001B[0m     nums\u001B[38;5;241m.\u001B[39mpop()\n",
      "Input \u001B[0;32mIn [108]\u001B[0m, in \u001B[0;36mhow_sum.<locals>.how_sum\u001B[0;34m(arr, target)\u001B[0m\n\u001B[1;32m     12\u001B[0m \u001B[38;5;28;01mfor\u001B[39;00m num \u001B[38;5;129;01min\u001B[39;00m arr:\n\u001B[1;32m     13\u001B[0m     nums\u001B[38;5;241m.\u001B[39mappend(num)\n\u001B[0;32m---> 14\u001B[0m     \u001B[38;5;28;01mif\u001B[39;00m \u001B[43mhow_sum\u001B[49m\u001B[43m(\u001B[49m\u001B[43marr\u001B[49m\u001B[43m,\u001B[49m\u001B[43m \u001B[49m\u001B[43mtarget\u001B[49m\u001B[43m \u001B[49m\u001B[38;5;241;43m-\u001B[39;49m\u001B[43m \u001B[49m\u001B[43mnum\u001B[49m\u001B[43m)\u001B[49m:\n\u001B[1;32m     15\u001B[0m         \u001B[38;5;28;01mreturn\u001B[39;00m nums\n\u001B[1;32m     16\u001B[0m     nums\u001B[38;5;241m.\u001B[39mpop()\n",
      "    \u001B[0;31m[... skipping similar frames: how_sum.<locals>.how_sum at line 14 (25 times)]\u001B[0m\n",
      "Input \u001B[0;32mIn [108]\u001B[0m, in \u001B[0;36mhow_sum.<locals>.how_sum\u001B[0;34m(arr, target)\u001B[0m\n\u001B[1;32m     12\u001B[0m \u001B[38;5;28;01mfor\u001B[39;00m num \u001B[38;5;129;01min\u001B[39;00m arr:\n\u001B[1;32m     13\u001B[0m     nums\u001B[38;5;241m.\u001B[39mappend(num)\n\u001B[0;32m---> 14\u001B[0m     \u001B[38;5;28;01mif\u001B[39;00m \u001B[43mhow_sum\u001B[49m\u001B[43m(\u001B[49m\u001B[43marr\u001B[49m\u001B[43m,\u001B[49m\u001B[43m \u001B[49m\u001B[43mtarget\u001B[49m\u001B[43m \u001B[49m\u001B[38;5;241;43m-\u001B[39;49m\u001B[43m \u001B[49m\u001B[43mnum\u001B[49m\u001B[43m)\u001B[49m:\n\u001B[1;32m     15\u001B[0m         \u001B[38;5;28;01mreturn\u001B[39;00m nums\n\u001B[1;32m     16\u001B[0m     nums\u001B[38;5;241m.\u001B[39mpop()\n",
      "Input \u001B[0;32mIn [108]\u001B[0m, in \u001B[0;36mhow_sum.<locals>.how_sum\u001B[0;34m(arr, target)\u001B[0m\n\u001B[1;32m     14\u001B[0m     \u001B[38;5;28;01mif\u001B[39;00m how_sum(arr, target \u001B[38;5;241m-\u001B[39m num):\n\u001B[1;32m     15\u001B[0m         \u001B[38;5;28;01mreturn\u001B[39;00m nums\n\u001B[0;32m---> 16\u001B[0m     nums\u001B[38;5;241m.\u001B[39mpop()\n\u001B[1;32m     18\u001B[0m \u001B[38;5;28;01mreturn\u001B[39;00m \u001B[38;5;28;01mFalse\u001B[39;00m\n",
      "\u001B[0;31mKeyboardInterrupt\u001B[0m: "
     ]
    }
   ],
   "source": [
    "print(how_sum([2, 3], 7))  # true\n",
    "print(how_sum([5, 3, 4, 7], 7))  # true\n",
    "print(how_sum([2, 4], 7))  # None\n",
    "print(how_sum([2, 3, 5], 8))  # true\n",
    "print(how_sum([5, 3, 4, 7], 7))  # true\n",
    "print(how_sum([7, 14], 300))  # false"
   ],
   "metadata": {
    "collapsed": false,
    "pycharm": {
     "name": "#%%\n"
    }
   }
  },
  {
   "cell_type": "code",
   "execution_count": 113,
   "outputs": [],
   "source": [
    "# complexity: O(n * m) time and O(m^2) space\n",
    "def how_sum_mem(arr, target: int):\n",
    "    nums = []\n",
    "    mem = {}\n",
    "\n",
    "    def how_sum(arr, target) -> bool:\n",
    "        if target == 0:\n",
    "            return True\n",
    "\n",
    "        if target < 0:\n",
    "            return False\n",
    "\n",
    "        if target in mem:\n",
    "            return mem[target]\n",
    "\n",
    "        for num in arr:\n",
    "            nums.append(num)\n",
    "            if how_sum(arr, target - num):\n",
    "                mem[target] = True\n",
    "                return nums\n",
    "            nums.pop()\n",
    "        mem[target] = False\n",
    "        return False\n",
    "\n",
    "    found = how_sum(arr, target)\n",
    "\n",
    "    return nums if found else None"
   ],
   "metadata": {
    "collapsed": false,
    "pycharm": {
     "name": "#%%\n"
    }
   }
  },
  {
   "cell_type": "code",
   "execution_count": 114,
   "outputs": [
    {
     "name": "stdout",
     "output_type": "stream",
     "text": [
      "[2, 2, 3]\n",
      "[3, 4]\n",
      "None\n",
      "[2, 2, 2, 2]\n",
      "[3, 4]\n",
      "None\n"
     ]
    }
   ],
   "source": [
    "print(how_sum_mem([2, 3], 7))  # true\n",
    "print(how_sum_mem([5, 3, 4, 7], 7))  # true\n",
    "print(how_sum_mem([2, 4], 7))  # None\n",
    "print(how_sum_mem([2, 3, 5], 8))  # true\n",
    "print(how_sum_mem([5, 3, 4, 7], 7))  # true\n",
    "print(how_sum_mem([7, 14], 300))  # false"
   ],
   "metadata": {
    "collapsed": false,
    "pycharm": {
     "name": "#%%\n"
    }
   }
  },
  {
   "cell_type": "code",
   "execution_count": null,
   "outputs": [],
   "source": [],
   "metadata": {
    "collapsed": false,
    "pycharm": {
     "name": "#%%\n"
    }
   }
  }
 ],
 "metadata": {
  "kernelspec": {
   "display_name": "Python 3",
   "language": "python",
   "name": "python3"
  },
  "language_info": {
   "codemirror_mode": {
    "name": "ipython",
    "version": 2
   },
   "file_extension": ".py",
   "mimetype": "text/x-python",
   "name": "python",
   "nbconvert_exporter": "python",
   "pygments_lexer": "ipython2",
   "version": "2.7.6"
  }
 },
 "nbformat": 4,
 "nbformat_minor": 0
}