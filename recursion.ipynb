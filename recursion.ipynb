{
 "cells": [
  {
   "cell_type": "markdown",
   "source": [
    "## String Reversal"
   ],
   "metadata": {
    "collapsed": false,
    "pycharm": {
     "name": "#%% md\n"
    }
   }
  },
  {
   "cell_type": "code",
   "execution_count": 86,
   "outputs": [],
   "source": [
    "def reverse(input: str) -> str:\n",
    "    # base case when the length of the string is 0 or null\n",
    "    if not input or len(input) == 0:\n",
    "        return \"\"\n",
    "    return reverse(input[1:]) + input[0]"
   ],
   "metadata": {
    "collapsed": false,
    "pycharm": {
     "name": "#%%\n"
    }
   }
  },
  {
   "cell_type": "code",
   "execution_count": 87,
   "outputs": [
    {
     "name": "stdout",
     "output_type": "stream",
     "text": [
      "54321\n",
      "!hsemar olleh\n",
      "hello ramesh!\n"
     ]
    }
   ],
   "source": [
    "print(reverse(\"12345\"))\n",
    "rev = reverse(\"hello ramesh!\")\n",
    "print(rev)\n",
    "print(reverse(rev))"
   ],
   "metadata": {
    "collapsed": false,
    "pycharm": {
     "name": "#%%\n"
    }
   }
  },
  {
   "cell_type": "markdown",
   "source": [
    "## Palindrome"
   ],
   "metadata": {
    "collapsed": false,
    "pycharm": {
     "name": "#%% md\n"
    }
   }
  },
  {
   "cell_type": "code",
   "execution_count": 91,
   "outputs": [],
   "source": [
    "def palindrome(input: str) -> bool:\n",
    "    if not input or len(input) == 0 or len(input) == 1:\n",
    "        return True\n",
    "    if input[0] != input[-1]:\n",
    "        return False\n",
    "    return palindrome(input[1:-1])"
   ],
   "metadata": {
    "collapsed": false,
    "pycharm": {
     "name": "#%%\n"
    }
   }
  },
  {
   "cell_type": "code",
   "execution_count": 94,
   "outputs": [
    {
     "name": "stdout",
     "output_type": "stream",
     "text": [
      "True\n",
      "False\n"
     ]
    }
   ],
   "source": [
    "print(palindrome(\"11211\"))\n",
    "print(palindrome(\"1121\"))"
   ],
   "metadata": {
    "collapsed": false,
    "pycharm": {
     "name": "#%%\n"
    }
   }
  }
 ],
 "metadata": {
  "kernelspec": {
   "display_name": "Python 3",
   "language": "python",
   "name": "python3"
  },
  "language_info": {
   "codemirror_mode": {
    "name": "ipython",
    "version": 2
   },
   "file_extension": ".py",
   "mimetype": "text/x-python",
   "name": "python",
   "nbconvert_exporter": "python",
   "pygments_lexer": "ipython2",
   "version": "2.7.6"
  }
 },
 "nbformat": 4,
 "nbformat_minor": 0
}