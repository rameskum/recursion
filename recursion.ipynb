{
 "cells": [
  {
   "cell_type": "markdown",
   "metadata": {
    "pycharm": {
     "name": "#%% md\n"
    }
   },
   "source": [
    "## String Reversal"
   ]
  },
  {
   "cell_type": "code",
   "execution_count": 96,
   "metadata": {
    "pycharm": {
     "name": "#%%\n"
    }
   },
   "outputs": [],
   "source": [
    "def reverse(input: str) -> str:\n",
    "    # base case when the length of the string is 0 or null\n",
    "    if not input or len(input) == 0:\n",
    "        return \"\"\n",
    "    return reverse(input[1:]) + input[0]"
   ]
  },
  {
   "cell_type": "code",
   "execution_count": 97,
   "metadata": {
    "pycharm": {
     "name": "#%%\n"
    }
   },
   "outputs": [
    {
     "name": "stdout",
     "output_type": "stream",
     "text": [
      "54321\n",
      "!hsemar olleh\n",
      "hello ramesh!\n"
     ]
    }
   ],
   "source": [
    "print(reverse(\"12345\"))\n",
    "rev = reverse(\"hello ramesh!\")\n",
    "print(rev)\n",
    "print(reverse(rev))"
   ]
  },
  {
   "cell_type": "markdown",
   "metadata": {
    "pycharm": {
     "name": "#%% md\n"
    }
   },
   "source": [
    "## Palindrome"
   ]
  },
  {
   "cell_type": "code",
   "execution_count": 98,
   "metadata": {
    "pycharm": {
     "name": "#%%\n"
    }
   },
   "outputs": [],
   "source": [
    "def palindrome(input: str) -> bool:\n",
    "    if not input or len(input) == 0 or len(input) == 1:\n",
    "        return True\n",
    "    if input[0] != input[-1]:\n",
    "        return False\n",
    "    return palindrome(input[1:-1])"
   ]
  },
  {
   "cell_type": "code",
   "execution_count": 99,
   "metadata": {
    "pycharm": {
     "name": "#%%\n"
    }
   },
   "outputs": [
    {
     "name": "stdout",
     "output_type": "stream",
     "text": [
      "True\n",
      "False\n"
     ]
    }
   ],
   "source": [
    "print(palindrome(\"11211\"))\n",
    "print(palindrome(\"1121\"))"
   ]
  },
  {
   "cell_type": "markdown",
   "metadata": {
    "pycharm": {
     "name": "#%% md\n"
    }
   },
   "source": [
    "## Decimal to Binary"
   ]
  },
  {
   "cell_type": "code",
   "execution_count": 114,
   "metadata": {
    "pycharm": {
     "name": "#%%\n"
    }
   },
   "outputs": [],
   "source": [
    "def decimal_to_binary(num: int) -> str:\n",
    "    if num == 0:\n",
    "        return ''\n",
    "    return decimal_to_binary(num // 2) + str(num % 2)"
   ]
  },
  {
   "cell_type": "code",
   "execution_count": 117,
   "metadata": {
    "pycharm": {
     "name": "#%%\n"
    }
   },
   "outputs": [
    {
     "name": "stdout",
     "output_type": "stream",
     "text": [
      "\n",
      "1\n",
      "10\n",
      "101\n",
      "11101001\n",
      "11001000\n"
     ]
    }
   ],
   "source": [
    "print(decimal_to_binary(0))\n",
    "print(decimal_to_binary(1))\n",
    "print(decimal_to_binary(2))\n",
    "print(decimal_to_binary(5))\n",
    "print(decimal_to_binary(233))\n",
    "print(decimal_to_binary(200))"
   ]
  },
  {
   "cell_type": "markdown",
   "metadata": {
    "pycharm": {
     "name": "#%% md\n"
    }
   },
   "source": [
    "## Sum of Natural Numbers"
   ]
  },
  {
   "cell_type": "code",
   "execution_count": 118,
   "metadata": {
    "pycharm": {
     "name": "#%%\n"
    }
   },
   "outputs": [],
   "source": [
    "def sum_of_natual_num(num: int) -> int:\n",
    "    if num == 0:\n",
    "        return 0\n",
    "    return num + sum_of_natual_num(num - 1)"
   ]
  },
  {
   "cell_type": "code",
   "execution_count": 119,
   "metadata": {
    "pycharm": {
     "name": "#%%\n"
    }
   },
   "outputs": [
    {
     "name": "stdout",
     "output_type": "stream",
     "text": [
      "1\n",
      "3\n",
      "10\n",
      "55\n"
     ]
    }
   ],
   "source": [
    "print(sum_of_natual_num(1))\n",
    "print(sum_of_natual_num(2))\n",
    "print(sum_of_natual_num(4))\n",
    "print(sum_of_natual_num(10))"
   ]
  },
  {
   "cell_type": "markdown",
   "metadata": {
    "pycharm": {
     "name": "#%% md\n"
    }
   },
   "source": [
    "## Binary Search - Divide and Conquer"
   ]
  },
  {
   "cell_type": "code",
   "execution_count": 132,
   "metadata": {
    "pycharm": {
     "name": "#%%\n"
    }
   },
   "outputs": [],
   "source": [
    "def binary_search(arr, target) -> int:\n",
    "    def bs(l, r):\n",
    "        if l > r:\n",
    "            return -1\n",
    "\n",
    "        mid = l + (r - l) // 2\n",
    "\n",
    "        if arr[mid] == target:\n",
    "            return mid\n",
    "\n",
    "        if arr[mid] < target:\n",
    "            return bs(mid + 1, r)\n",
    "\n",
    "        return bs(l, mid - 1)\n",
    "\n",
    "    return bs(0, len(arr) - 1)"
   ]
  },
  {
   "cell_type": "code",
   "execution_count": 133,
   "metadata": {
    "pycharm": {
     "name": "#%%\n"
    }
   },
   "outputs": [
    {
     "name": "stdout",
     "output_type": "stream",
     "text": [
      "4\n",
      "-1\n",
      "2\n"
     ]
    }
   ],
   "source": [
    "print(binary_search([1, 2, 3, 4, 5], 5))\n",
    "print(binary_search([1, 2, 3, 4, 5], 6))\n",
    "print(binary_search([-10, -2, 0, 3, 4, 5], 0))"
   ]
  },
  {
   "cell_type": "markdown",
   "metadata": {
    "pycharm": {
     "name": "#%% md\n"
    }
   },
   "source": [
    "## Fibonacci (Non-Optimized)"
   ]
  },
  {
   "cell_type": "code",
   "execution_count": 134,
   "metadata": {
    "pycharm": {
     "name": "#%%\n"
    }
   },
   "outputs": [],
   "source": [
    "def fib(num: int) -> int:\n",
    "    if num == 0 or num == 1:\n",
    "        return num\n",
    "    return fib(num - 1) + fib(num - 2)"
   ]
  },
  {
   "cell_type": "code",
   "execution_count": 137,
   "metadata": {
    "pycharm": {
     "name": "#%%\n"
    }
   },
   "outputs": [
    {
     "name": "stdout",
     "output_type": "stream",
     "text": [
      "0\n",
      "1\n",
      "1\n",
      "13\n",
      "55\n",
      "144\n"
     ]
    }
   ],
   "source": [
    "print(fib(0))\n",
    "print(fib(1))\n",
    "print(fib(2))\n",
    "print(fib(7))\n",
    "print(fib(10))\n",
    "print(fib(12))"
   ]
  },
  {
   "cell_type": "markdown",
   "metadata": {
    "pycharm": {
     "name": "#%% md\n"
    }
   },
   "source": [
    "## Merge Sort"
   ]
  },
  {
   "cell_type": "code",
   "execution_count": 172,
   "metadata": {
    "pycharm": {
     "name": "#%%\n"
    }
   },
   "outputs": [],
   "source": [
    "def merge_sort(arr):\n",
    "    def m_sort(start: int, end: int):\n",
    "        if start < end:\n",
    "            mid = (end + start) // 2\n",
    "\n",
    "            m_sort(start, mid)\n",
    "            m_sort(mid + 1, end)\n",
    "            merge(start, mid, end)\n",
    "\n",
    "    def merge(start, mid, end):\n",
    "        # to avoid modifying the original array\n",
    "        temp = [0] * (end - start + 1)\n",
    "\n",
    "        i, j, k = start, mid + 1, 0\n",
    "\n",
    "        while i <= mid and j <= end:\n",
    "            if arr[i] <= arr[j]:\n",
    "                temp[k] = arr[i]\n",
    "                i += 1\n",
    "            else:\n",
    "                temp[k] = arr[j]\n",
    "                j += 1\n",
    "            k += 1\n",
    "\n",
    "        while i <= mid:\n",
    "            temp[k] = arr[i]\n",
    "            i += 1\n",
    "            k += 1\n",
    "\n",
    "        while j <= end:\n",
    "            temp[k] = arr[j]\n",
    "            j += 1\n",
    "            k += 1\n",
    "\n",
    "        for i in range(start, end + 1):\n",
    "            arr[i] = temp[i - start]\n",
    "            i += 1\n",
    "\n",
    "    m_sort(0, len(arr) - 1)"
   ]
  },
  {
   "cell_type": "code",
   "execution_count": 173,
   "metadata": {
    "pycharm": {
     "name": "#%%\n"
    }
   },
   "outputs": [
    {
     "name": "stdout",
     "output_type": "stream",
     "text": [
      "[-6, -2, 1, 3, 3, 9]\n",
      "[-5, 0, 2, 3, 10, 20]\n"
     ]
    }
   ],
   "source": [
    "arr = [3, 3, -6, 1, 9, -2]\n",
    "merge_sort(arr)\n",
    "print(arr)\n",
    "arr = [-5, 20, 10, 3, 2, 0]\n",
    "merge_sort(arr)\n",
    "print(arr)"
   ]
  },
  {
   "cell_type": "markdown",
   "metadata": {
    "pycharm": {
     "name": "#%% md\n"
    }
   },
   "source": [
    "## Linked List Reversal"
   ]
  },
  {
   "cell_type": "code",
   "execution_count": 210,
   "metadata": {
    "pycharm": {
     "name": "#%%\n"
    }
   },
   "outputs": [],
   "source": [
    "class ListNode:\n",
    "    def __init__(self, value):\n",
    "        self.value = value\n",
    "        self.next = None\n",
    "\n",
    "\n",
    "def create_ll(arr) -> ListNode:\n",
    "    root = None\n",
    "    p = None\n",
    "    for data in arr:\n",
    "        if not root:\n",
    "            root = ListNode(data)\n",
    "            p = root\n",
    "        else:\n",
    "            p.next = ListNode(data)\n",
    "            p = p.next\n",
    "    return root\n",
    "\n",
    "\n",
    "def print_ll(root: ListNode):\n",
    "    if not root:\n",
    "        print('NULL')\n",
    "        return\n",
    "    print(f'{root.value} -> ', end='')\n",
    "    print_ll(root.next)\n",
    "\n",
    "\n",
    "def reverse_ll(root: ListNode):\n",
    "    if root is None or root.next is None:\n",
    "        return root\n",
    "    p = reverse_ll(root.next)\n",
    "    root.next.next = root\n",
    "    root.next = None\n",
    "    return p"
   ]
  },
  {
   "cell_type": "markdown",
   "metadata": {
    "pycharm": {
     "name": "#%% md\n"
    }
   },
   "source": [
    "ll = create_ll([2, 4, 7, 2, 1])\n",
    "print_ll(ll)\n",
    "ll = reverse_ll(ll)\n",
    "print_ll(ll)"
   ]
  },
  {
   "cell_type": "markdown",
   "metadata": {
    "pycharm": {
     "name": "#%% md\n"
    }
   },
   "source": [
    "## Merge Two Sorted Linked List"
   ]
  },
  {
   "cell_type": "code",
   "execution_count": 213,
   "metadata": {
    "pycharm": {
     "name": "#%%\n"
    }
   },
   "outputs": [],
   "source": [
    "def merged_sorted_ll(a: ListNode, b: ListNode):\n",
    "    if not a:\n",
    "        return b\n",
    "\n",
    "    if not b:\n",
    "        return a\n",
    "\n",
    "    if (a.value < b.value):\n",
    "        a.next = merged_sorted_ll(a.next, b)\n",
    "        return a\n",
    "    else:\n",
    "        b.next = merged_sorted_ll(a, b.next)\n",
    "        return b"
   ]
  },
  {
   "cell_type": "code",
   "execution_count": 215,
   "metadata": {
    "pycharm": {
     "name": "#%%\n"
    }
   },
   "outputs": [
    {
     "name": "stdout",
     "output_type": "stream",
     "text": [
      "1 -> 2 -> 3 -> 4 -> 5 -> 6 -> 7 -> 8 -> 9 -> 10 -> 11 -> NULL\n"
     ]
    }
   ],
   "source": [
    "lll = create_ll([1, 2, 4, 6, 9])\n",
    "llr = create_ll([3, 5, 7, 8, 10, 11])\n",
    "print_ll(merged_sorted_ll(lll, llr))"
   ]
  },
  {
   "cell_type": "markdown",
   "metadata": {
    "pycharm": {
     "name": "#%% md\n"
    }
   },
   "source": [
    "## Insert value in BST"
   ]
  },
  {
   "cell_type": "code",
   "execution_count": 243,
   "outputs": [],
   "source": [
    "class TreeNode:\n",
    "    def __init__(self, data):\n",
    "        self.data = data\n",
    "        self.left = self.right = None\n",
    "\n",
    "\n",
    "def in_order_traversal(root: TreeNode):\n",
    "    if not root:\n",
    "        return\n",
    "    in_order_traversal(root.left)\n",
    "    print(root.data, end='')\n",
    "    in_order_traversal(root.right)\n",
    "\n",
    "\n",
    "def insert_bst(root: TreeNode, data: int) -> TreeNode:\n",
    "    if not root:\n",
    "        return TreeNode(data)\n",
    "    if root.data < data:\n",
    "        root.right = insert_bst(root.right, data)\n",
    "    else:\n",
    "        root.left = insert_bst(root.left, data)\n",
    "    return root"
   ],
   "metadata": {
    "collapsed": false,
    "pycharm": {
     "name": "#%%\n"
    }
   }
  },
  {
   "cell_type": "code",
   "execution_count": 246,
   "outputs": [
    {
     "name": "stdout",
     "output_type": "stream",
     "text": [
      "123\n",
      "1234"
     ]
    }
   ],
   "source": [
    "root = TreeNode(2)\n",
    "root.left = TreeNode(1)\n",
    "root.right = TreeNode(3)\n",
    "\n",
    "in_order_traversal(root)\n",
    "print()\n",
    "in_order_traversal(insert_bst(root, 4))"
   ],
   "metadata": {
    "collapsed": false,
    "pycharm": {
     "name": "#%%\n"
    }
   }
  },
  {
   "cell_type": "markdown",
   "source": [
    "## Print All Leaf Nodes"
   ],
   "metadata": {
    "collapsed": false,
    "pycharm": {
     "name": "#%% md\n"
    }
   }
  },
  {
   "cell_type": "code",
   "execution_count": 253,
   "outputs": [],
   "source": [
    "def print_leaf_nodes(root: TreeNode):\n",
    "    if not root:\n",
    "        return\n",
    "    if not root.left and not root.right:\n",
    "        print(root.data, end='')\n",
    "        return\n",
    "    if root.left:\n",
    "        print_leaf_nodes(root.left)\n",
    "    if root.right:\n",
    "        print_leaf_nodes(root.right)"
   ],
   "metadata": {
    "collapsed": false,
    "pycharm": {
     "name": "#%%\n"
    }
   }
  },
  {
   "cell_type": "code",
   "execution_count": 254,
   "outputs": [
    {
     "name": "stdout",
     "output_type": "stream",
     "text": [
      "14"
     ]
    }
   ],
   "source": [
    "print_leaf_nodes(root)"
   ],
   "metadata": {
    "collapsed": false,
    "pycharm": {
     "name": "#%%\n"
    }
   }
  },
  {
   "cell_type": "markdown",
   "source": [
    "## Graphs - DFS"
   ],
   "metadata": {
    "collapsed": false,
    "pycharm": {
     "name": "#%% md\n"
    }
   }
  },
  {
   "cell_type": "code",
   "execution_count": 256,
   "outputs": [],
   "source": [
    "class Node:\n",
    "    def __init__(self, data: int):\n",
    "        self.data = data\n",
    "        self.neighbors = []\n",
    "\n",
    "\n",
    "def search_node(root: Node, target: int, visited=set()) -> bool:\n",
    "    if not root:\n",
    "        return False\n",
    "    if root.data == target:\n",
    "        return True\n",
    "\n",
    "    for node in root.neighbors:\n",
    "        if node in visited:\n",
    "            continue\n",
    "        visited.add(node)\n",
    "        if search_node(node, target):\n",
    "            return True\n",
    "    return False"
   ],
   "metadata": {
    "collapsed": false,
    "pycharm": {
     "name": "#%%\n"
    }
   }
  }
 ],
 "metadata": {
  "kernelspec": {
   "display_name": "Python 3 (ipykernel)",
   "language": "python",
   "name": "python3"
  },
  "language_info": {
   "codemirror_mode": {
    "name": "ipython",
    "version": 3
   },
   "file_extension": ".py",
   "mimetype": "text/x-python",
   "name": "python",
   "nbconvert_exporter": "python",
   "pygments_lexer": "ipython3",
   "version": "3.9.12"
  }
 },
 "nbformat": 4,
 "nbformat_minor": 1
}