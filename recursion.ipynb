{
 "cells": [
  {
   "cell_type": "markdown",
   "source": [
    "## String Reversal"
   ],
   "metadata": {
    "collapsed": false,
    "pycharm": {
     "name": "#%% md\n"
    }
   }
  },
  {
   "cell_type": "code",
   "execution_count": 81,
   "outputs": [],
   "source": [
    "def reverse(input: str) -> str:\n",
    "    # base case when the length of the string is 0 or null\n",
    "    if not input or len(input) == 0:\n",
    "        return \"\"\n",
    "    return reverse(input[1:]) + input[0]"
   ],
   "metadata": {
    "collapsed": false,
    "pycharm": {
     "name": "#%%\n"
    }
   }
  },
  {
   "cell_type": "code",
   "execution_count": 82,
   "outputs": [
    {
     "name": "stdout",
     "output_type": "stream",
     "text": [
      "54321\n",
      "!hsemar olleh\n",
      "hello ramesh!\n"
     ]
    }
   ],
   "source": [
    "print(reverse(\"12345\"))\n",
    "rev = reverse(\"hello ramesh!\")\n",
    "print(rev)\n",
    "print(reverse(rev))"
   ],
   "metadata": {
    "collapsed": false,
    "pycharm": {
     "name": "#%%\n"
    }
   }
  }
 ],
 "metadata": {
  "kernelspec": {
   "display_name": "Python 3",
   "language": "python",
   "name": "python3"
  },
  "language_info": {
   "codemirror_mode": {
    "name": "ipython",
    "version": 2
   },
   "file_extension": ".py",
   "mimetype": "text/x-python",
   "name": "python",
   "nbconvert_exporter": "python",
   "pygments_lexer": "ipython2",
   "version": "2.7.6"
  }
 },
 "nbformat": 4,
 "nbformat_minor": 0
}