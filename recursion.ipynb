{
 "cells": [
  {
   "cell_type": "markdown",
   "source": [
    "## String Reversal"
   ],
   "metadata": {
    "collapsed": false,
    "pycharm": {
     "name": "#%% md\n"
    }
   }
  },
  {
   "cell_type": "code",
   "execution_count": 96,
   "outputs": [],
   "source": [
    "def reverse(input: str) -> str:\n",
    "    # base case when the length of the string is 0 or null\n",
    "    if not input or len(input) == 0:\n",
    "        return \"\"\n",
    "    return reverse(input[1:]) + input[0]"
   ],
   "metadata": {
    "collapsed": false,
    "pycharm": {
     "name": "#%%\n"
    }
   }
  },
  {
   "cell_type": "code",
   "execution_count": 97,
   "outputs": [
    {
     "name": "stdout",
     "output_type": "stream",
     "text": [
      "54321\n",
      "!hsemar olleh\n",
      "hello ramesh!\n"
     ]
    }
   ],
   "source": [
    "print(reverse(\"12345\"))\n",
    "rev = reverse(\"hello ramesh!\")\n",
    "print(rev)\n",
    "print(reverse(rev))"
   ],
   "metadata": {
    "collapsed": false,
    "pycharm": {
     "name": "#%%\n"
    }
   }
  },
  {
   "cell_type": "markdown",
   "source": [
    "## Palindrome"
   ],
   "metadata": {
    "collapsed": false,
    "pycharm": {
     "name": "#%% md\n"
    }
   }
  },
  {
   "cell_type": "code",
   "execution_count": 98,
   "outputs": [],
   "source": [
    "def palindrome(input: str) -> bool:\n",
    "    if not input or len(input) == 0 or len(input) == 1:\n",
    "        return True\n",
    "    if input[0] != input[-1]:\n",
    "        return False\n",
    "    return palindrome(input[1:-1])"
   ],
   "metadata": {
    "collapsed": false,
    "pycharm": {
     "name": "#%%\n"
    }
   }
  },
  {
   "cell_type": "code",
   "execution_count": 99,
   "outputs": [
    {
     "name": "stdout",
     "output_type": "stream",
     "text": [
      "True\n",
      "False\n"
     ]
    }
   ],
   "source": [
    "print(palindrome(\"11211\"))\n",
    "print(palindrome(\"1121\"))"
   ],
   "metadata": {
    "collapsed": false,
    "pycharm": {
     "name": "#%%\n"
    }
   }
  },
  {
   "cell_type": "markdown",
   "source": [
    "## Decimal to Binary"
   ],
   "metadata": {
    "collapsed": false,
    "pycharm": {
     "name": "#%% md\n"
    }
   }
  },
  {
   "cell_type": "code",
   "execution_count": 114,
   "outputs": [],
   "source": [
    "def decimal_to_binary(num: int) -> str:\n",
    "    if num == 0:\n",
    "        return ''\n",
    "    return decimal_to_binary(num // 2) + str(num % 2)"
   ],
   "metadata": {
    "collapsed": false,
    "pycharm": {
     "name": "#%%\n"
    }
   }
  },
  {
   "cell_type": "code",
   "execution_count": 117,
   "outputs": [
    {
     "name": "stdout",
     "output_type": "stream",
     "text": [
      "\n",
      "1\n",
      "10\n",
      "101\n",
      "11101001\n",
      "11001000\n"
     ]
    }
   ],
   "source": [
    "print(decimal_to_binary(0))\n",
    "print(decimal_to_binary(1))\n",
    "print(decimal_to_binary(2))\n",
    "print(decimal_to_binary(5))\n",
    "print(decimal_to_binary(233))\n",
    "print(decimal_to_binary(200))"
   ],
   "metadata": {
    "collapsed": false,
    "pycharm": {
     "name": "#%%\n"
    }
   }
  },
  {
   "cell_type": "markdown",
   "source": [
    "## Sum of Natural Numbers"
   ],
   "metadata": {
    "collapsed": false,
    "pycharm": {
     "name": "#%% md\n"
    }
   }
  },
  {
   "cell_type": "code",
   "execution_count": 118,
   "outputs": [],
   "source": [
    "def sum_of_natual_num(num: int) -> int:\n",
    "    if num == 0:\n",
    "        return 0\n",
    "    return num + sum_of_natual_num(num - 1)"
   ],
   "metadata": {
    "collapsed": false,
    "pycharm": {
     "name": "#%%\n"
    }
   }
  },
  {
   "cell_type": "code",
   "execution_count": 119,
   "outputs": [
    {
     "name": "stdout",
     "output_type": "stream",
     "text": [
      "1\n",
      "3\n",
      "10\n",
      "55\n"
     ]
    }
   ],
   "source": [
    "print(sum_of_natual_num(1))\n",
    "print(sum_of_natual_num(2))\n",
    "print(sum_of_natual_num(4))\n",
    "print(sum_of_natual_num(10))"
   ],
   "metadata": {
    "collapsed": false,
    "pycharm": {
     "name": "#%%\n"
    }
   }
  },
  {
   "cell_type": "markdown",
   "source": [
    "## Binary Search - Divide and Conquer"
   ],
   "metadata": {
    "collapsed": false,
    "pycharm": {
     "name": "#%% md\n"
    }
   }
  },
  {
   "cell_type": "code",
   "execution_count": 132,
   "outputs": [],
   "source": [
    "def binary_search(arr, target) -> int:\n",
    "    def bs(l, r):\n",
    "        if l > r:\n",
    "            return -1\n",
    "\n",
    "        mid = l + (r - l) // 2\n",
    "\n",
    "        if arr[mid] == target:\n",
    "            return mid\n",
    "\n",
    "        if arr[mid] < target:\n",
    "            return bs(mid + 1, r)\n",
    "\n",
    "        return bs(l, mid - 1)\n",
    "\n",
    "    return bs(0, len(arr) - 1)"
   ],
   "metadata": {
    "collapsed": false,
    "pycharm": {
     "name": "#%%\n"
    }
   }
  },
  {
   "cell_type": "code",
   "execution_count": 133,
   "outputs": [
    {
     "name": "stdout",
     "output_type": "stream",
     "text": [
      "4\n",
      "-1\n",
      "2\n"
     ]
    }
   ],
   "source": [
    "print(binary_search([1, 2, 3, 4, 5], 5))\n",
    "print(binary_search([1, 2, 3, 4, 5], 6))\n",
    "print(binary_search([-10, -2, 0, 3, 4, 5], 0))"
   ],
   "metadata": {
    "collapsed": false,
    "pycharm": {
     "name": "#%%\n"
    }
   }
  },
  {
   "cell_type": "markdown",
   "source": [
    "## Fibonacci (Non-Optimized)"
   ],
   "metadata": {
    "collapsed": false,
    "pycharm": {
     "name": "#%% md\n"
    }
   }
  },
  {
   "cell_type": "code",
   "execution_count": 134,
   "outputs": [],
   "source": [
    "def fib(num: int) -> int:\n",
    "    if num == 0 or num == 1:\n",
    "        return num\n",
    "    return fib(num - 1) + fib(num - 2)"
   ],
   "metadata": {
    "collapsed": false,
    "pycharm": {
     "name": "#%%\n"
    }
   }
  },
  {
   "cell_type": "code",
   "execution_count": 137,
   "outputs": [
    {
     "name": "stdout",
     "output_type": "stream",
     "text": [
      "0\n",
      "1\n",
      "1\n",
      "13\n",
      "55\n",
      "144\n"
     ]
    }
   ],
   "source": [
    "print(fib(0))\n",
    "print(fib(1))\n",
    "print(fib(2))\n",
    "print(fib(7))\n",
    "print(fib(10))\n",
    "print(fib(12))"
   ],
   "metadata": {
    "collapsed": false,
    "pycharm": {
     "name": "#%%\n"
    }
   }
  },
  {
   "cell_type": "markdown",
   "source": [
    "## Merge Sort"
   ],
   "metadata": {
    "collapsed": false,
    "pycharm": {
     "name": "#%% md\n"
    }
   }
  },
  {
   "cell_type": "code",
   "execution_count": 172,
   "outputs": [],
   "source": [
    "def merge_sort(arr):\n",
    "    def m_sort(start: int, end: int):\n",
    "        if start < end:\n",
    "            mid = (end + start) // 2\n",
    "\n",
    "            m_sort(start, mid)\n",
    "            m_sort(mid + 1, end)\n",
    "            merge(start, mid, end)\n",
    "\n",
    "    def merge(start, mid, end):\n",
    "        # to avoid modifying the original array\n",
    "        temp = [0] * (end - start + 1)\n",
    "\n",
    "        i, j, k = start, mid + 1, 0\n",
    "\n",
    "        while i <= mid and j <= end:\n",
    "            if arr[i] <= arr[j]:\n",
    "                temp[k] = arr[i]\n",
    "                i += 1\n",
    "            else:\n",
    "                temp[k] = arr[j]\n",
    "                j += 1\n",
    "            k += 1\n",
    "\n",
    "        while i <= mid:\n",
    "            temp[k] = arr[i]\n",
    "            i += 1\n",
    "            k += 1\n",
    "\n",
    "        while j <= end:\n",
    "            temp[k] = arr[j]\n",
    "            j += 1\n",
    "            k += 1\n",
    "\n",
    "        for i in range(start, end + 1):\n",
    "            arr[i] = temp[i - start]\n",
    "            i += 1\n",
    "\n",
    "    m_sort(0, len(arr) - 1)"
   ],
   "metadata": {
    "collapsed": false,
    "pycharm": {
     "name": "#%%\n"
    }
   }
  },
  {
   "cell_type": "code",
   "execution_count": 173,
   "outputs": [
    {
     "name": "stdout",
     "output_type": "stream",
     "text": [
      "[-6, -2, 1, 3, 3, 9]\n",
      "[-5, 0, 2, 3, 10, 20]\n"
     ]
    }
   ],
   "source": [
    "arr = [3, 3, -6, 1, 9, -2]\n",
    "merge_sort(arr)\n",
    "print(arr)\n",
    "arr = [-5, 20, 10, 3, 2, 0]\n",
    "merge_sort(arr)\n",
    "print(arr)"
   ],
   "metadata": {
    "collapsed": false,
    "pycharm": {
     "name": "#%%\n"
    }
   }
  },
  {
   "cell_type": "markdown",
   "source": [
    "## Linked List Reversal"
   ],
   "metadata": {
    "collapsed": false,
    "pycharm": {
     "name": "#%% md\n"
    }
   }
  },
  {
   "cell_type": "code",
   "execution_count": 210,
   "outputs": [],
   "source": [
    "class ListNode:\n",
    "    def __init__(self, value):\n",
    "        self.value = value\n",
    "        self.next = None\n",
    "\n",
    "\n",
    "def create_ll(arr) -> ListNode:\n",
    "    root = None\n",
    "    p = None\n",
    "    for data in arr:\n",
    "        if not root:\n",
    "            root = ListNode(data)\n",
    "            p = root\n",
    "        else:\n",
    "            p.next = ListNode(data)\n",
    "            p = p.next\n",
    "    return root\n",
    "\n",
    "\n",
    "def print_ll(root: ListNode):\n",
    "    if not root:\n",
    "        print('NULL')\n",
    "        return\n",
    "    print(f'{root.value} -> ', end='')\n",
    "    print_ll(root.next)\n",
    "\n",
    "\n",
    "def reverse_ll(root: ListNode):\n",
    "    if root is None or root.next is None:\n",
    "        return root\n",
    "    p = reverse_ll(root.next)\n",
    "    root.next.next = root\n",
    "    root.next = None\n",
    "    return p"
   ],
   "metadata": {
    "collapsed": false,
    "pycharm": {
     "name": "#%%\n"
    }
   }
  },
  {
   "cell_type": "code",
   "execution_count": 211,
   "outputs": [
    {
     "name": "stdout",
     "output_type": "stream",
     "text": [
      "2 -> 4 -> 7 -> 2 -> 1 -> NULL\n",
      "1 -> 2 -> 7 -> 4 -> 2 -> NULL\n"
     ]
    }
   ],
   "source": [
    "ll = create_ll([2, 4, 7, 2, 1])\n",
    "print_ll(ll)\n",
    "ll = reverse_ll(ll)\n",
    "print_ll(ll)"
   ],
   "metadata": {
    "collapsed": false,
    "pycharm": {
     "name": "#%%\n"
    }
   }
  },
  {
   "cell_type": "markdown",
   "source": [
    "## Merge Two Sorted Linked List"
   ],
   "metadata": {
    "collapsed": false,
    "pycharm": {
     "name": "#%% md\n"
    }
   }
  },
  {
   "cell_type": "code",
   "execution_count": 213,
   "outputs": [],
   "source": [
    "def merged_sorted_ll(a: ListNode, b: ListNode):\n",
    "    if not a:\n",
    "        return b\n",
    "\n",
    "    if not b:\n",
    "        return a\n",
    "\n",
    "    if(a.value < b.value):\n",
    "        a.next = merged_sorted_ll(a.next, b)\n",
    "        return a\n",
    "    else:\n",
    "        b.next = merged_sorted_ll(a, b.next)\n",
    "        return b"
   ],
   "metadata": {
    "collapsed": false,
    "pycharm": {
     "name": "#%%\n"
    }
   }
  },
  {
   "cell_type": "code",
   "execution_count": 215,
   "outputs": [
    {
     "name": "stdout",
     "output_type": "stream",
     "text": [
      "1 -> 2 -> 3 -> 4 -> 5 -> 6 -> 7 -> 8 -> 9 -> 10 -> 11 -> NULL\n"
     ]
    }
   ],
   "source": [
    "lll = create_ll([1, 2, 4, 6, 9])\n",
    "llr = create_ll([3, 5, 7, 8, 10, 11])\n",
    "print_ll(merged_sorted_ll(lll, llr))"
   ],
   "metadata": {
    "collapsed": false,
    "pycharm": {
     "name": "#%%\n"
    }
   }
  },
  {
   "cell_type": "code",
   "execution_count": null,
   "outputs": [],
   "source": [],
   "metadata": {
    "collapsed": false,
    "pycharm": {
     "name": "#%%\n"
    }
   }
  }
 ],
 "metadata": {
  "kernelspec": {
   "display_name": "Python 3",
   "language": "python",
   "name": "python3"
  },
  "language_info": {
   "codemirror_mode": {
    "name": "ipython",
    "version": 2
   },
   "file_extension": ".py",
   "mimetype": "text/x-python",
   "name": "python",
   "nbconvert_exporter": "python",
   "pygments_lexer": "ipython2",
   "version": "2.7.6"
  }
 },
 "nbformat": 4,
 "nbformat_minor": 0
}